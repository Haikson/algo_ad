{
 "cells": [
  {
   "cell_type": "code",
   "execution_count": 2,
   "metadata": {},
   "outputs": [],
   "source": [
    "import numpy as np\n",
    "import matplotlib.pyplot as plt"
   ]
  },
  {
   "cell_type": "code",
   "execution_count": 3,
   "metadata": {},
   "outputs": [],
   "source": [
    "X = np.array([[1, 1, 1, 1, 1, 1, 1, 1, 1, 1],\n",
    "              [1, 1, 2, 1, 3, 0, 5, 10, 1, 2]])\n",
    "y = [45, 55, 50, 59, 65, 35, 75, 80, 50, 60]"
   ]
  },
  {
   "cell_type": "code",
   "execution_count": null,
   "metadata": {},
   "outputs": [],
   "source": []
  },
  {
   "cell_type": "code",
   "execution_count": 4,
   "metadata": {},
   "outputs": [],
   "source": [
    "def calc_mse(y, y_pred):\n",
    "  err = np.mean((y - y_pred)**2)\n",
    "  return err\n",
    "\n",
    "def calc_mae(y, y_pred):\n",
    "  err = np.mean(np.abs(y - y_pred))\n",
    "  return err"
   ]
  },
  {
   "cell_type": "markdown",
   "metadata": {},
   "source": [
    "**Подберите скорость обучения (alpha) и количество итераций**"
   ]
  },
  {
   "cell_type": "code",
   "execution_count": 133,
   "metadata": {},
   "outputs": [
    {
     "name": "stdout",
     "output_type": "stream",
     "text": [
      "W = [1.  0.5], alpha = 0.001\n",
      "0 [1.1102 0.84  ] 3173.15\n",
      "500 [21.04606457  8.74617136] 415.355423398327\n",
      "1000 [31.66648131  6.78503276] 176.46806566379882\n",
      "1500 [37.97952317  5.61928129] 92.05932434403572\n",
      "2000 [41.73215361  4.92632937] 62.2342399245102\n",
      "2500 [43.96281128  4.51442137] 51.69580934583289\n",
      "3000 [45.28877016  4.26957292] 47.97214782992787\n",
      "3500 [46.07695337  4.12402886] 46.656424868950594\n",
      "4000 [46.54546925  4.03751382] 46.19152576288303\n",
      "4500 [46.82396684  3.98608711] 46.02725776328683\n",
      "5000 [46.98951279  3.95551778] 45.96921511416331\n",
      "5500 [47.08791746  3.93734661] 45.94870625592217\n"
     ]
    }
   ],
   "source": [
    "n = X.shape[1]\n",
    "alpha = 1e-3\n",
    "W = np.array([1, 0.5])\n",
    "print(f\"W = {W}, alpha = {alpha}\")\n",
    "for i in range(5501):\n",
    "    y_pred = np.dot(W, X)\n",
    "    err = calc_mse(y, y_pred)\n",
    "    for ii in range(W.shape[0]):\n",
    "        W[ii] -= alpha * (1/n * 2 * np.sum(X[ii] * (y_pred - y)))\n",
    "    \n",
    "    if i % 500 == 0:\n",
    "        print(i, W, err)\n",
    "        "
   ]
  },
  {
   "cell_type": "code",
   "execution_count": null,
   "metadata": {},
   "outputs": [],
   "source": []
  },
  {
   "cell_type": "markdown",
   "metadata": {},
   "source": [
    "***2. В этом коде мы избавляемся от итераций по весам, но тут есть ошибка, исправьте ее:**"
   ]
  },
  {
   "cell_type": "code",
   "execution_count": 160,
   "metadata": {},
   "outputs": [
    {
     "name": "stdout",
     "output_type": "stream",
     "text": [
      "0 [1.1102 0.84  ] 3173.15\n",
      "500 [21.04606457  8.74617136] 415.355423398327\n",
      "1000 [31.66648131  6.78503276] 176.46806566379882\n",
      "1500 [37.97952317  5.61928129] 92.05932434403572\n",
      "2000 [41.73215361  4.92632937] 62.2342399245102\n",
      "2500 [43.96281128  4.51442137] 51.69580934583289\n",
      "3000 [45.28877016  4.26957292] 47.97214782992787\n",
      "3500 [46.07695337  4.12402886] 46.656424868950594\n",
      "4000 [46.54546925  4.03751382] 46.19152576288303\n",
      "4500 [46.82396684  3.98608711] 46.02725776328683\n",
      "5000 [46.98951279  3.95551778] 45.96921511416331\n",
      "5500 [47.08791746  3.93734661] 45.94870625592217\n"
     ]
    }
   ],
   "source": [
    "n = X.shape[1]\n",
    "alpha = 1e-3\n",
    "W = np.array([1, 0.5])\n",
    "for i in range(5501):\n",
    "    y_pred = np.dot(W, X)\n",
    "    err = calc_mse(y, y_pred)\n",
    "    \n",
    "#     for ii in range(W.shape[0]):\n",
    "#         W[ii] -= alpha * (1/n * 2 * np.sum(X[ii] * (y_pred - y)))\n",
    "    \n",
    "    W -= [(alpha * (1/n * 2 * np.sum(X[0] * (y_pred - y)))), (alpha * (1/n * 2 * np.sum(X[1] * (y_pred - y))))]\n",
    "    if i % 500 == 0:\n",
    "        print(i, W, err)"
   ]
  },
  {
   "cell_type": "code",
   "execution_count": null,
   "metadata": {},
   "outputs": [],
   "source": []
  },
  {
   "cell_type": "markdown",
   "metadata": {},
   "source": [
    "***3: вместо того, чтобы задавать количество итераций, задайте условие остановки алгоритма - когда ошибка за итерацию\n",
    "начинает изменяться ниже определенного порога (упрощенный аналог параметра tol в линейной регрессии в sklearn).**"
   ]
  },
  {
   "cell_type": "code",
   "execution_count": 171,
   "metadata": {},
   "outputs": [
    {
     "name": "stdout",
     "output_type": "stream",
     "text": [
      "W = [1.  0.5], alpha = 0.001\n",
      "4802 [46.93370497  3.96582312] 45.985482731202794\n"
     ]
    }
   ],
   "source": [
    "n = X.shape[1]\n",
    "alpha = 1e-3\n",
    "W = np.array([1, 0.5])\n",
    "print(f\"W = {W}, alpha = {alpha}\")\n",
    "\n",
    "max_iterations = 10000\n",
    "i = 0\n",
    "err = np.inf\n",
    "last_err = np.inf\n",
    "min_diff = 1e-4\n",
    "diff = np.inf\n",
    "while i < max_iterations and diff > min_diff:\n",
    "    y_pred = np.dot(W, X)\n",
    "    last_err = err\n",
    "    err = calc_mse(y, y_pred)\n",
    "    diff = last_err - err\n",
    "    for ii in range(W.shape[0]):\n",
    "        W[ii] -= alpha * (1/n * 2 * np.sum(X[ii] * (y_pred - y)))\n",
    "    i += 1\n",
    "    \n",
    "print(i, W, err)"
   ]
  }
 ],
 "metadata": {
  "kernelspec": {
   "display_name": "Python 3",
   "language": "python",
   "name": "python3"
  },
  "language_info": {
   "codemirror_mode": {
    "name": "ipython",
    "version": 3
   },
   "file_extension": ".py",
   "mimetype": "text/x-python",
   "name": "python",
   "nbconvert_exporter": "python",
   "pygments_lexer": "ipython3",
   "version": "3.8.2"
  }
 },
 "nbformat": 4,
 "nbformat_minor": 4
}
